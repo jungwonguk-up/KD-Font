{
 "cells": [
  {
   "cell_type": "code",
   "execution_count": 1,
   "metadata": {
    "collapsed": false
   },
   "outputs": [
    {
     "name": "stdout",
     "output_type": "stream",
     "text": [
      "나눔손글씨흰꼬리수리_떞.png\n",
      "['떞', '붶', '곗', '뼖', '묄', '횻', '뵯', '탢', '댬', '틋']\n",
      "2141860 2141860\n",
      "267732 267732\n",
      "267733 267733\n",
      "가    252\n",
      "숀    252\n",
      "쇽    252\n",
      "쇼    252\n",
      "쇳    252\n",
      "    ... \n",
      "퀯    173\n",
      "싘    173\n",
      "퀲    173\n",
      "싚    173\n",
      "썿    173\n",
      "Name: count, Length: 11172, dtype: int64\n",
      "가    31\n",
      "쇱    31\n",
      "쇰    31\n",
      "쇨    31\n",
      "쇤    31\n",
      "     ..\n",
      "싽    21\n",
      "뒯    21\n",
      "뚃    21\n",
      "뮋    21\n",
      "쁀    21\n",
      "Name: count, Length: 11172, dtype: int64\n",
      "가    32\n",
      "쉈    32\n",
      "쉘    32\n",
      "늘    32\n",
      "늙    32\n",
      "     ..\n",
      "놲    21\n",
      "얋    21\n",
      "얈    21\n",
      "얆    21\n",
      "쇒    21\n",
      "Name: count, Length: 11172, dtype: int64\n"
     ]
    }
   ],
   "source": [
    "import os\n",
    "from sklearn.model_selection import train_test_split\n",
    "import pandas as pd\n",
    "import shutil\n",
    "base_path = \"./data/Hangul_Characters_Image64_OCR/test\"\n",
    "to_path = \"data/Hangul_Characters_Image64_OCR_Split\"\n",
    "file_name = os.listdir(base_path)\n",
    "print(file_name[0])\n",
    "y = [y[-5] for y in file_name]\n",
    "print(y[:10])\n",
    "train_x, valid_x, train_y, valid_y = train_test_split(file_name,y,test_size = 0.2,stratify=y)\n",
    "valid_x, test_x, valid_y, test_y = train_test_split(valid_x,valid_y,test_size=0.5,stratify=valid_y)\n",
    "\n",
    "print(len(train_x),len(train_y))\n",
    "print(len(valid_x),len(valid_y))\n",
    "print(len(test_x),len(test_y))\n",
    "\n",
    "print(pd.DataFrame(train_y).value_counts())\n",
    "print(pd.DataFrame(valid_y).value_counts())\n",
    "print(pd.DataFrame(test_y).value_counts())\n",
    "\n",
    "#train\n",
    "type = \"train\"\n",
    "f = open(f'./data/Hangul_Characters_Image64_OCR_Split/gt_{type}.txt','w')\n",
    "for image_name, target in zip(train_x, train_y):\n",
    "    f.write(os.path.join(type, image_name) + \"\\t\" + target + \"\\n\")\n",
    "    shutil.copyfile(os.path.join(base_path, image_name), os.path.join(to_path, type ,image_name))\n",
    "\n",
    "#valid\n",
    "type = \"valid\"\n",
    "f = open(f'./data/Hangul_Characters_Image64_OCR_Split/gt_{type}.txt','w')\n",
    "for image_name, target in zip(valid_x, valid_y):\n",
    "    f.write(os.path.join(type, image_name) + \"\\t\" + target + \"\\n\")\n",
    "    shutil.copyfile(os.path.join(base_path, image_name), os.path.join(to_path, type ,image_name))\n",
    "\n",
    "#test\n",
    "type = \"test\"\n",
    "f = open(f'./data/Hangul_Characters_Image64_OCR_Split/gt_{type}.txt','w')\n",
    "for image_name, target in zip(test_x, test_y):\n",
    "    f.write(os.path.join(type, image_name) + \"\\t\" + target + \"\\n\")\n",
    "    shutil.copyfile(os.path.join(base_path, image_name), os.path.join(to_path, type ,image_name))"
   ]
  },
  {
   "cell_type": "code",
   "execution_count": 3,
   "metadata": {
    "collapsed": false
   },
   "outputs": [
    {
     "name": "stdout",
     "output_type": "stream",
     "text": [
      "2141860\n",
      "267732\n",
      "267733\n"
     ]
    }
   ],
   "source": [
    "import os\n",
    "print(train_len(os.listdir(\"./data/Hangul_Characters_Image64_OCR_Split/train\")))\n",
    "print(len(os.listdir(\"./data/Hangul_Characters_Image64_OCR_Split/valid\")))\n",
    "print(len(os.listdir(\"./data/Hangul_Characters_Image64_OCR_Split/test\")))"
   ]
  }
 ],
 "metadata": {
  "kernelspec": {
   "display_name": "Python 3",
   "language": "python",
   "name": "python3"
  },
  "language_info": {
   "codemirror_mode": {
    "name": "ipython",
    "version": 3
   },
   "file_extension": ".py",
   "mimetype": "text/x-python",
   "name": "python",
   "nbconvert_exporter": "python",
   "pygments_lexer": "ipython3",
   "version": "3.10.9"
  }
 },
 "nbformat": 4,
 "nbformat_minor": 0
}

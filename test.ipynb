{
 "cells": [
  {
   "cell_type": "code",
   "execution_count": null,
   "metadata": {},
   "outputs": [],
   "source": [
    "from PIL import Image\n",
    "import torch\n",
    "from torch.utils.data import Dataset, DataLoader\n",
    "import numpy as np\n",
    "import torchvision\n",
    "from torchvision import transforms"
   ]
  },
  {
   "cell_type": "code",
   "execution_count": null,
   "metadata": {},
   "outputs": [],
   "source": [
    "img_Gray = Image.open('C:/Paper_Project/Hangul_Characters_Image128_Grayscale/가/62570_가.png')\n",
    "img_Gray_array = np.array(img_Gray)\n",
    "\n",
    "print(img_Gray_array.shape)"
   ]
  },
  {
   "cell_type": "code",
   "execution_count": 1,
   "metadata": {},
   "outputs": [],
   "source": [
    "import torch"
   ]
  },
  {
   "cell_type": "code",
   "execution_count": 2,
   "metadata": {},
   "outputs": [
    {
     "data": {
      "text/plain": [
       "True"
      ]
     },
     "execution_count": 2,
     "metadata": {},
     "output_type": "execute_result"
    }
   ],
   "source": [
    "torch.cuda.is_available()"
   ]
  },
  {
   "cell_type": "code",
   "execution_count": 1,
   "metadata": {},
   "outputs": [],
   "source": [
    "import wandb"
   ]
  },
  {
   "cell_type": "code",
   "execution_count": 2,
   "metadata": {},
   "outputs": [
    {
     "name": "stderr",
     "output_type": "stream",
     "text": [
      "wandb: Appending key for api.wandb.ai to your netrc file: C:\\Users\\gih0109/.netrc\n"
     ]
    }
   ],
   "source": [
    "!wandb login 6473a3a8207ad0ecadea31cd0cbc7e6fb3ab0462"
   ]
  },
  {
   "cell_type": "code",
   "execution_count": null,
   "metadata": {},
   "outputs": [],
   "source": [
    "import numpy as np\n",
    "import cv2\n",
    "import matplotlib.pyplot as plt\n",
    "%matplotlib inline\n",
    "\n",
    "\n",
    "img = cv2.imread('C:/Paper_Project/1.png')\n",
    "\n"
   ]
  },
  {
   "cell_type": "code",
   "execution_count": null,
   "metadata": {},
   "outputs": [],
   "source": [
    "img.shape"
   ]
  },
  {
   "cell_type": "code",
   "execution_count": null,
   "metadata": {},
   "outputs": [],
   "source": [
    "import torch\n",
    "import torch.nn as nn\n",
    "\n",
    "# context와 x의 예시 shape\n",
    "context_shape = (16, 68, 256)\n",
    "x_shape = (16, 256, 16, 16)\n",
    "\n",
    "\n",
    "# 임의의 값으로 채워진 context와 x 텐서 생성\n",
    "context = torch.rand(context_shape)\n",
    "x = torch.rand(x_shape)\n",
    "\n",
    "# 예시로 nn.Linear를 사용하여 context를 변환\n",
    "# nn.Linear를 사용하여 context 텐서 변환\n",
    "linear_layer = nn.Linear(context_shape[-1], x_shape[1] * x_shape[2] * x_shape[3])\n",
    "context_transformed = linear_layer(context)\n",
    "\n",
    "# 변환된 context를 원하는 크기로 reshape\n",
    "desired_shape = (x_shape[0], x_shape[1], x_shape[2], x_shape[3])\n",
    "context_reshaped = context_transformed.view(desired_shape)"
   ]
  },
  {
   "cell_type": "code",
   "execution_count": null,
   "metadata": {},
   "outputs": [],
   "source": []
  }
 ],
 "metadata": {
  "kernelspec": {
   "display_name": "dp",
   "language": "python",
   "name": "python3"
  },
  "language_info": {
   "codemirror_mode": {
    "name": "ipython",
    "version": 3
   },
   "file_extension": ".py",
   "mimetype": "text/x-python",
   "name": "python",
   "nbconvert_exporter": "python",
   "pygments_lexer": "ipython3",
   "version": "3.10.12"
  },
  "orig_nbformat": 4
 },
 "nbformat": 4,
 "nbformat_minor": 2
}

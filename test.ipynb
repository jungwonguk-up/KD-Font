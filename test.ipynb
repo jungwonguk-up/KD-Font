{
 "cells": [
  {
   "cell_type": "code",
   "execution_count": 1,
   "metadata": {},
   "outputs": [],
   "source": [
    "from PIL import Image\n",
    "import torch\n",
    "from torch.utils.data import Dataset, DataLoader\n",
    "import numpy as np\n",
    "import torchvision\n",
    "from torchvision import transforms"
   ]
  },
  {
   "cell_type": "code",
   "execution_count": 12,
   "metadata": {},
   "outputs": [
    {
     "name": "stdout",
     "output_type": "stream",
     "text": [
      "(128, 128)\n"
     ]
    }
   ],
   "source": [
    "img_Gray = Image.open('C:/Paper_Project/Hangul_Characters_Image128_Grayscale/가/62570_가.png')\n",
    "img_Gray_array = np.array(img_Gray)\n",
    "\n",
    "print(img_Gray_array.shape)"
   ]
  },
  {
   "cell_type": "code",
   "execution_count": 1,
   "metadata": {},
   "outputs": [],
   "source": [
    "import numpy as np\n",
    "import cv2\n",
    "import matplotlib.pyplot as plt\n",
    "%matplotlib inline\n",
    "\n",
    "\n",
    "img = cv2.imread('C:/Paper_Project/1.png')\n",
    "\n"
   ]
  },
  {
   "cell_type": "code",
   "execution_count": 3,
   "metadata": {},
   "outputs": [
    {
     "ename": "AttributeError",
     "evalue": "'NoneType' object has no attribute 'shape'",
     "output_type": "error",
     "traceback": [
      "\u001b[1;31m---------------------------------------------------------------------------\u001b[0m",
      "\u001b[1;31mAttributeError\u001b[0m                            Traceback (most recent call last)",
      "Cell \u001b[1;32mIn[3], line 1\u001b[0m\n\u001b[1;32m----> 1\u001b[0m img\u001b[39m.\u001b[39;49mshape\n",
      "\u001b[1;31mAttributeError\u001b[0m: 'NoneType' object has no attribute 'shape'"
     ]
    }
   ],
   "source": [
    "img.shape"
   ]
  },
  {
   "cell_type": "code",
   "execution_count": 7,
   "metadata": {},
   "outputs": [
    {
     "name": "stdout",
     "output_type": "stream",
     "text": [
      "torch.Size([16, 68, 1, 256])\n"
     ]
    },
    {
     "ename": "RuntimeError",
     "evalue": "Sizes of tensors must match except in dimension 2. Expected size 68 but got size 256 for tensor number 1 in the list.",
     "output_type": "error",
     "traceback": [
      "\u001b[1;31m---------------------------------------------------------------------------\u001b[0m",
      "\u001b[1;31mRuntimeError\u001b[0m                              Traceback (most recent call last)",
      "Cell \u001b[1;32mIn[7], line 20\u001b[0m\n\u001b[0;32m     17\u001b[0m \u001b[39mprint\u001b[39m(context_transformed\u001b[39m.\u001b[39munsqueeze(\u001b[39m2\u001b[39m)\u001b[39m.\u001b[39mshape)\n\u001b[0;32m     19\u001b[0m \u001b[39m# context_transformed와 x를 concatenate\u001b[39;00m\n\u001b[1;32m---> 20\u001b[0m concatenated_tensor \u001b[39m=\u001b[39m torch\u001b[39m.\u001b[39;49mcat((context_transformed\u001b[39m.\u001b[39;49munsqueeze(\u001b[39m2\u001b[39;49m), x), dim\u001b[39m=\u001b[39;49m\u001b[39m2\u001b[39;49m)\n\u001b[0;32m     21\u001b[0m \u001b[39mprint\u001b[39m(concatenated_tensor\u001b[39m.\u001b[39mshape)  \u001b[39m# 예상 결과 출력\u001b[39;00m\n",
      "\u001b[1;31mRuntimeError\u001b[0m: Sizes of tensors must match except in dimension 2. Expected size 68 but got size 256 for tensor number 1 in the list."
     ]
    }
   ],
   "source": [
    "import torch\n",
    "import torch.nn as nn\n",
    "\n",
    "# context와 x의 예시 shape\n",
    "context_shape = (16, 68, 256)\n",
    "x_shape = (16, 256, 16, 16)\n",
    "\n",
    "\n",
    "# 임의의 값으로 채워진 context와 x 텐서 생성\n",
    "context = torch.rand(context_shape)\n",
    "x = torch.rand(x_shape)\n",
    "\n",
    "# 예시로 nn.Linear를 사용하여 context를 변환\n",
    "# nn.Linear를 사용하여 context 텐서 변환\n",
    "linear_layer = nn.Linear(context_shape[-1], x_shape[1] * x_shape[2] * x_shape[3])\n",
    "context_transformed = linear_layer(context)\n",
    "\n",
    "# 변환된 context를 원하는 크기로 reshape\n",
    "desired_shape = (x_shape[0], x_shape[1], x_shape[2], x_shape[3])\n",
    "context_reshaped = context_transformed.view(desired_shape)"
   ]
  },
  {
   "cell_type": "code",
   "execution_count": null,
   "metadata": {},
   "outputs": [],
   "source": []
  }
 ],
 "metadata": {
  "kernelspec": {
   "display_name": "dp",
   "language": "python",
   "name": "python3"
  },
  "language_info": {
   "codemirror_mode": {
    "name": "ipython",
    "version": 3
   },
   "file_extension": ".py",
   "mimetype": "text/x-python",
   "name": "python",
   "nbconvert_exporter": "python",
   "pygments_lexer": "ipython3",
   "version": "3.10.6"
  },
  "orig_nbformat": 4
 },
 "nbformat": 4,
 "nbformat_minor": 2
}

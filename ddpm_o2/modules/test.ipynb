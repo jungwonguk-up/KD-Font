{
 "cells": [
  {
   "cell_type": "code",
   "execution_count": 1,
   "metadata": {},
   "outputs": [],
   "source": [
    "import torch\n",
    "import torch.nn as nn\n",
    "import torch.nn.functional as F\n",
    "import numpy as np"
   ]
  },
  {
   "cell_type": "code",
   "execution_count": 2,
   "metadata": {},
   "outputs": [],
   "source": [
    "batch = 4\n",
    "channel = 32\n",
    "height = 128\n",
    "width = 128"
   ]
  },
  {
   "cell_type": "code",
   "execution_count": 3,
   "metadata": {},
   "outputs": [
    {
     "data": {
      "text/plain": [
       "torch.Size([4, 32, 128, 128])"
      ]
     },
     "execution_count": 3,
     "metadata": {},
     "output_type": "execute_result"
    }
   ],
   "source": [
    "test_t = torch.rand(batch, channel, height, width)\n",
    "test_t.shape"
   ]
  },
  {
   "cell_type": "code",
   "execution_count": 4,
   "metadata": {},
   "outputs": [],
   "source": [
    "dim = 32\n",
    "num_heads = 4\n",
    "dim_head = 32\n",
    "inner_dim = num_heads * dim_head"
   ]
  },
  {
   "cell_type": "code",
   "execution_count": 5,
   "metadata": {},
   "outputs": [],
   "source": [
    "to_qkv = nn.Conv2d(in_channels=dim, out_channels=inner_dim * 3, kernel_size=1, bias=False)"
   ]
  },
  {
   "cell_type": "code",
   "execution_count": 6,
   "metadata": {},
   "outputs": [
    {
     "data": {
      "text/plain": [
       "torch.Size([4, 384, 128, 128])"
      ]
     },
     "execution_count": 6,
     "metadata": {},
     "output_type": "execute_result"
    }
   ],
   "source": [
    "qkv = to_qkv(test_t)\n",
    "qkv.shape"
   ]
  },
  {
   "cell_type": "code",
   "execution_count": 7,
   "metadata": {},
   "outputs": [
    {
     "data": {
      "text/plain": [
       "3"
      ]
     },
     "execution_count": 7,
     "metadata": {},
     "output_type": "execute_result"
    }
   ],
   "source": [
    "qkv = qkv.chunk(3, dim=1)\n",
    "len(qkv)"
   ]
  },
  {
   "cell_type": "code",
   "execution_count": 8,
   "metadata": {},
   "outputs": [
    {
     "data": {
      "text/plain": [
       "torch.Size([4, 128, 128, 128])"
      ]
     },
     "execution_count": 8,
     "metadata": {},
     "output_type": "execute_result"
    }
   ],
   "source": [
    "qkv[0].shape"
   ]
  },
  {
   "cell_type": "code",
   "execution_count": 9,
   "metadata": {},
   "outputs": [
    {
     "data": {
      "text/plain": [
       "torch.Size([4, 128, 16384])"
      ]
     },
     "execution_count": 9,
     "metadata": {},
     "output_type": "execute_result"
    }
   ],
   "source": [
    "q_reshaped = qkv[0].view(batch, inner_dim, -1)\n",
    "q_reshaped.shape"
   ]
  },
  {
   "cell_type": "code",
   "execution_count": 10,
   "metadata": {},
   "outputs": [
    {
     "data": {
      "text/plain": [
       "torch.Size([4, 4, 32, 16384])"
      ]
     },
     "execution_count": 10,
     "metadata": {},
     "output_type": "execute_result"
    }
   ],
   "source": [
    "q_reshaped = q_reshaped.view(batch, num_heads, dim_head, -1)\n",
    "q_reshaped.shape"
   ]
  },
  {
   "cell_type": "code",
   "execution_count": 11,
   "metadata": {},
   "outputs": [
    {
     "data": {
      "text/plain": [
       "torch.Size([4, 4, 32, 16384])"
      ]
     },
     "execution_count": 11,
     "metadata": {},
     "output_type": "execute_result"
    }
   ],
   "source": [
    "q, k, v = map(lambda x: x.view(batch, num_heads, dim_head, -1), qkv)\n",
    "q.shape"
   ]
  },
  {
   "cell_type": "code",
   "execution_count": 12,
   "metadata": {},
   "outputs": [
    {
     "data": {
      "text/plain": [
       "tensor([[[[True, True, True,  ..., True, True, True],\n",
       "          [True, True, True,  ..., True, True, True],\n",
       "          [True, True, True,  ..., True, True, True],\n",
       "          ...,\n",
       "          [True, True, True,  ..., True, True, True],\n",
       "          [True, True, True,  ..., True, True, True],\n",
       "          [True, True, True,  ..., True, True, True]],\n",
       "\n",
       "         [[True, True, True,  ..., True, True, True],\n",
       "          [True, True, True,  ..., True, True, True],\n",
       "          [True, True, True,  ..., True, True, True],\n",
       "          ...,\n",
       "          [True, True, True,  ..., True, True, True],\n",
       "          [True, True, True,  ..., True, True, True],\n",
       "          [True, True, True,  ..., True, True, True]],\n",
       "\n",
       "         [[True, True, True,  ..., True, True, True],\n",
       "          [True, True, True,  ..., True, True, True],\n",
       "          [True, True, True,  ..., True, True, True],\n",
       "          ...,\n",
       "          [True, True, True,  ..., True, True, True],\n",
       "          [True, True, True,  ..., True, True, True],\n",
       "          [True, True, True,  ..., True, True, True]],\n",
       "\n",
       "         [[True, True, True,  ..., True, True, True],\n",
       "          [True, True, True,  ..., True, True, True],\n",
       "          [True, True, True,  ..., True, True, True],\n",
       "          ...,\n",
       "          [True, True, True,  ..., True, True, True],\n",
       "          [True, True, True,  ..., True, True, True],\n",
       "          [True, True, True,  ..., True, True, True]]],\n",
       "\n",
       "\n",
       "        [[[True, True, True,  ..., True, True, True],\n",
       "          [True, True, True,  ..., True, True, True],\n",
       "          [True, True, True,  ..., True, True, True],\n",
       "          ...,\n",
       "          [True, True, True,  ..., True, True, True],\n",
       "          [True, True, True,  ..., True, True, True],\n",
       "          [True, True, True,  ..., True, True, True]],\n",
       "\n",
       "         [[True, True, True,  ..., True, True, True],\n",
       "          [True, True, True,  ..., True, True, True],\n",
       "          [True, True, True,  ..., True, True, True],\n",
       "          ...,\n",
       "          [True, True, True,  ..., True, True, True],\n",
       "          [True, True, True,  ..., True, True, True],\n",
       "          [True, True, True,  ..., True, True, True]],\n",
       "\n",
       "         [[True, True, True,  ..., True, True, True],\n",
       "          [True, True, True,  ..., True, True, True],\n",
       "          [True, True, True,  ..., True, True, True],\n",
       "          ...,\n",
       "          [True, True, True,  ..., True, True, True],\n",
       "          [True, True, True,  ..., True, True, True],\n",
       "          [True, True, True,  ..., True, True, True]],\n",
       "\n",
       "         [[True, True, True,  ..., True, True, True],\n",
       "          [True, True, True,  ..., True, True, True],\n",
       "          [True, True, True,  ..., True, True, True],\n",
       "          ...,\n",
       "          [True, True, True,  ..., True, True, True],\n",
       "          [True, True, True,  ..., True, True, True],\n",
       "          [True, True, True,  ..., True, True, True]]],\n",
       "\n",
       "\n",
       "        [[[True, True, True,  ..., True, True, True],\n",
       "          [True, True, True,  ..., True, True, True],\n",
       "          [True, True, True,  ..., True, True, True],\n",
       "          ...,\n",
       "          [True, True, True,  ..., True, True, True],\n",
       "          [True, True, True,  ..., True, True, True],\n",
       "          [True, True, True,  ..., True, True, True]],\n",
       "\n",
       "         [[True, True, True,  ..., True, True, True],\n",
       "          [True, True, True,  ..., True, True, True],\n",
       "          [True, True, True,  ..., True, True, True],\n",
       "          ...,\n",
       "          [True, True, True,  ..., True, True, True],\n",
       "          [True, True, True,  ..., True, True, True],\n",
       "          [True, True, True,  ..., True, True, True]],\n",
       "\n",
       "         [[True, True, True,  ..., True, True, True],\n",
       "          [True, True, True,  ..., True, True, True],\n",
       "          [True, True, True,  ..., True, True, True],\n",
       "          ...,\n",
       "          [True, True, True,  ..., True, True, True],\n",
       "          [True, True, True,  ..., True, True, True],\n",
       "          [True, True, True,  ..., True, True, True]],\n",
       "\n",
       "         [[True, True, True,  ..., True, True, True],\n",
       "          [True, True, True,  ..., True, True, True],\n",
       "          [True, True, True,  ..., True, True, True],\n",
       "          ...,\n",
       "          [True, True, True,  ..., True, True, True],\n",
       "          [True, True, True,  ..., True, True, True],\n",
       "          [True, True, True,  ..., True, True, True]]],\n",
       "\n",
       "\n",
       "        [[[True, True, True,  ..., True, True, True],\n",
       "          [True, True, True,  ..., True, True, True],\n",
       "          [True, True, True,  ..., True, True, True],\n",
       "          ...,\n",
       "          [True, True, True,  ..., True, True, True],\n",
       "          [True, True, True,  ..., True, True, True],\n",
       "          [True, True, True,  ..., True, True, True]],\n",
       "\n",
       "         [[True, True, True,  ..., True, True, True],\n",
       "          [True, True, True,  ..., True, True, True],\n",
       "          [True, True, True,  ..., True, True, True],\n",
       "          ...,\n",
       "          [True, True, True,  ..., True, True, True],\n",
       "          [True, True, True,  ..., True, True, True],\n",
       "          [True, True, True,  ..., True, True, True]],\n",
       "\n",
       "         [[True, True, True,  ..., True, True, True],\n",
       "          [True, True, True,  ..., True, True, True],\n",
       "          [True, True, True,  ..., True, True, True],\n",
       "          ...,\n",
       "          [True, True, True,  ..., True, True, True],\n",
       "          [True, True, True,  ..., True, True, True],\n",
       "          [True, True, True,  ..., True, True, True]],\n",
       "\n",
       "         [[True, True, True,  ..., True, True, True],\n",
       "          [True, True, True,  ..., True, True, True],\n",
       "          [True, True, True,  ..., True, True, True],\n",
       "          ...,\n",
       "          [True, True, True,  ..., True, True, True],\n",
       "          [True, True, True,  ..., True, True, True],\n",
       "          [True, True, True,  ..., True, True, True]]]])"
      ]
     },
     "execution_count": 12,
     "metadata": {},
     "output_type": "execute_result"
    }
   ],
   "source": [
    "torch.eq(q, q_reshaped)"
   ]
  },
  {
   "cell_type": "code",
   "execution_count": 13,
   "metadata": {},
   "outputs": [
    {
     "data": {
      "text/plain": [
       "torch.Size([4, 4, 32, 32])"
      ]
     },
     "execution_count": 13,
     "metadata": {},
     "output_type": "execute_result"
    }
   ],
   "source": [
    "s = q.matmul(k.swapdims(-1, -2))\n",
    "s.shape"
   ]
  },
  {
   "cell_type": "code",
   "execution_count": 14,
   "metadata": {},
   "outputs": [
    {
     "data": {
      "text/plain": [
       "torch.Size([4, 4, 32, 32])"
      ]
     },
     "execution_count": 14,
     "metadata": {},
     "output_type": "execute_result"
    }
   ],
   "source": [
    "attn = F.softmax(s, dim=-1)\n",
    "attn.shape"
   ]
  },
  {
   "cell_type": "code",
   "execution_count": 15,
   "metadata": {},
   "outputs": [
    {
     "data": {
      "text/plain": [
       "torch.Size([4, 4, 32, 16384])"
      ]
     },
     "execution_count": 15,
     "metadata": {},
     "output_type": "execute_result"
    }
   ],
   "source": [
    "out = attn.matmul(v)\n",
    "out.shape"
   ]
  },
  {
   "cell_type": "code",
   "execution_count": 16,
   "metadata": {},
   "outputs": [
    {
     "data": {
      "text/plain": [
       "torch.Size([4, 128, 128, 128])"
      ]
     },
     "execution_count": 16,
     "metadata": {},
     "output_type": "execute_result"
    }
   ],
   "source": [
    "out2 = out.view(batch, inner_dim, height, width)\n",
    "out2.shape"
   ]
  },
  {
   "cell_type": "code",
   "execution_count": 19,
   "metadata": {},
   "outputs": [
    {
     "data": {
      "text/plain": [
       "torch.Size([4, 4, 32, 16384])"
      ]
     },
     "execution_count": 19,
     "metadata": {},
     "output_type": "execute_result"
    }
   ],
   "source": [
    "q2, k2, v2 = map(lambda x: x.view(batch, num_heads, dim_head, -1), qkv)\n",
    "q2.shape"
   ]
  },
  {
   "cell_type": "code",
   "execution_count": 20,
   "metadata": {},
   "outputs": [
    {
     "data": {
      "text/plain": [
       "tensor([[[[5.3062e-05, 7.8847e-05, 7.9855e-05,  ..., 6.2761e-05,\n",
       "           8.2297e-05, 6.9736e-05],\n",
       "          [4.9579e-05, 5.7943e-05, 5.4345e-05,  ..., 5.3442e-05,\n",
       "           6.1293e-05, 5.5299e-05],\n",
       "          [6.6173e-05, 6.9737e-05, 7.9594e-05,  ..., 7.1509e-05,\n",
       "           8.0747e-05, 7.1145e-05],\n",
       "          ...,\n",
       "          [7.8785e-05, 5.2889e-05, 5.4667e-05,  ..., 7.3684e-05,\n",
       "           4.9925e-05, 6.5018e-05],\n",
       "          [8.3834e-05, 7.5841e-05, 6.5846e-05,  ..., 5.3267e-05,\n",
       "           5.9850e-05, 7.8551e-05],\n",
       "          [6.1350e-05, 5.8024e-05, 5.6659e-05,  ..., 7.2465e-05,\n",
       "           5.5833e-05, 6.5400e-05]],\n",
       "\n",
       "         [[4.2616e-05, 4.9286e-05, 5.0862e-05,  ..., 4.7694e-05,\n",
       "           5.5041e-05, 4.5461e-05],\n",
       "          [4.6266e-05, 5.6972e-05, 6.0124e-05,  ..., 6.2430e-05,\n",
       "           6.8484e-05, 6.9369e-05],\n",
       "          [4.8719e-05, 3.5395e-05, 4.9985e-05,  ..., 7.2277e-05,\n",
       "           5.0612e-05, 4.5900e-05],\n",
       "          ...,\n",
       "          [7.3793e-05, 6.7570e-05, 6.1700e-05,  ..., 6.1805e-05,\n",
       "           6.4997e-05, 5.5888e-05],\n",
       "          [5.6216e-05, 5.8303e-05, 8.2717e-05,  ..., 6.0177e-05,\n",
       "           6.5999e-05, 7.4543e-05],\n",
       "          [8.1924e-05, 6.5247e-05, 5.1758e-05,  ..., 5.8281e-05,\n",
       "           4.9160e-05, 6.0727e-05]],\n",
       "\n",
       "         [[4.8589e-05, 8.0621e-05, 6.4035e-05,  ..., 5.8557e-05,\n",
       "           6.5767e-05, 8.0843e-05],\n",
       "          [8.0611e-05, 6.9358e-05, 6.7203e-05,  ..., 4.4401e-05,\n",
       "           6.8007e-05, 6.6643e-05],\n",
       "          [5.8451e-05, 8.2686e-05, 5.7154e-05,  ..., 6.2573e-05,\n",
       "           6.9035e-05, 6.2345e-05],\n",
       "          ...,\n",
       "          [7.1389e-05, 7.6801e-05, 7.2661e-05,  ..., 6.2049e-05,\n",
       "           5.8675e-05, 6.5105e-05],\n",
       "          [5.4306e-05, 4.8532e-05, 5.2128e-05,  ..., 6.4079e-05,\n",
       "           5.7059e-05, 4.6608e-05],\n",
       "          [6.3529e-05, 5.4797e-05, 4.6364e-05,  ..., 5.0806e-05,\n",
       "           6.4002e-05, 6.7784e-05]],\n",
       "\n",
       "         [[5.8105e-05, 7.2001e-05, 5.6673e-05,  ..., 6.9464e-05,\n",
       "           6.2315e-05, 6.2730e-05],\n",
       "          [5.4062e-05, 4.6089e-05, 5.2430e-05,  ..., 6.7994e-05,\n",
       "           5.3220e-05, 6.4123e-05],\n",
       "          [5.6190e-05, 6.3626e-05, 6.7892e-05,  ..., 6.5713e-05,\n",
       "           5.4517e-05, 4.9806e-05],\n",
       "          ...,\n",
       "          [5.5775e-05, 5.7431e-05, 4.6108e-05,  ..., 5.6072e-05,\n",
       "           4.0421e-05, 5.6216e-05],\n",
       "          [6.1641e-05, 6.5604e-05, 6.0020e-05,  ..., 6.2510e-05,\n",
       "           4.7996e-05, 6.3474e-05],\n",
       "          [6.2308e-05, 6.5773e-05, 6.2501e-05,  ..., 7.3939e-05,\n",
       "           6.0609e-05, 6.8216e-05]]],\n",
       "\n",
       "\n",
       "        [[[5.8705e-05, 6.1618e-05, 7.0634e-05,  ..., 5.6469e-05,\n",
       "           6.5416e-05, 5.9550e-05],\n",
       "          [5.8939e-05, 9.4773e-05, 7.7636e-05,  ..., 6.7969e-05,\n",
       "           5.7403e-05, 6.2293e-05],\n",
       "          [5.4044e-05, 8.6139e-05, 8.9108e-05,  ..., 6.5232e-05,\n",
       "           7.1657e-05, 6.2226e-05],\n",
       "          ...,\n",
       "          [5.8139e-05, 5.7449e-05, 4.1801e-05,  ..., 6.4730e-05,\n",
       "           6.2144e-05, 6.8468e-05],\n",
       "          [5.3665e-05, 6.1817e-05, 6.9559e-05,  ..., 6.1724e-05,\n",
       "           5.9445e-05, 5.6986e-05],\n",
       "          [6.0577e-05, 6.0913e-05, 6.0965e-05,  ..., 6.9606e-05,\n",
       "           8.0039e-05, 4.5730e-05]],\n",
       "\n",
       "         [[5.1630e-05, 5.6468e-05, 5.0127e-05,  ..., 6.0917e-05,\n",
       "           4.4575e-05, 6.2054e-05],\n",
       "          [4.9701e-05, 6.0862e-05, 6.3225e-05,  ..., 4.0797e-05,\n",
       "           6.3923e-05, 6.5733e-05],\n",
       "          [6.4311e-05, 6.2488e-05, 6.4574e-05,  ..., 6.5134e-05,\n",
       "           5.9019e-05, 8.1659e-05],\n",
       "          ...,\n",
       "          [6.0249e-05, 5.3118e-05, 5.5812e-05,  ..., 5.3501e-05,\n",
       "           5.7337e-05, 7.5309e-05],\n",
       "          [5.7379e-05, 7.8777e-05, 7.8985e-05,  ..., 6.8313e-05,\n",
       "           6.5123e-05, 4.8137e-05],\n",
       "          [6.3491e-05, 5.5815e-05, 5.0241e-05,  ..., 5.4321e-05,\n",
       "           7.0739e-05, 4.0660e-05]],\n",
       "\n",
       "         [[4.5349e-05, 8.8410e-05, 6.9277e-05,  ..., 7.7706e-05,\n",
       "           5.4353e-05, 5.8034e-05],\n",
       "          [7.6983e-05, 5.7774e-05, 6.4766e-05,  ..., 5.7586e-05,\n",
       "           5.0665e-05, 4.4235e-05],\n",
       "          [7.3914e-05, 7.7857e-05, 7.8272e-05,  ..., 7.5098e-05,\n",
       "           5.7504e-05, 5.7076e-05],\n",
       "          ...,\n",
       "          [5.2035e-05, 4.8399e-05, 6.5989e-05,  ..., 6.0381e-05,\n",
       "           4.8320e-05, 6.1217e-05],\n",
       "          [6.3539e-05, 4.4347e-05, 6.3514e-05,  ..., 6.8396e-05,\n",
       "           5.5680e-05, 6.0291e-05],\n",
       "          [7.8004e-05, 5.0266e-05, 5.4443e-05,  ..., 5.3007e-05,\n",
       "           5.6061e-05, 6.1696e-05]],\n",
       "\n",
       "         [[5.7052e-05, 6.7933e-05, 5.6299e-05,  ..., 6.8905e-05,\n",
       "           8.9152e-05, 4.7778e-05],\n",
       "          [5.4075e-05, 5.8076e-05, 5.5726e-05,  ..., 6.1371e-05,\n",
       "           5.6916e-05, 6.5868e-05],\n",
       "          [6.6471e-05, 7.2126e-05, 6.3912e-05,  ..., 7.0272e-05,\n",
       "           5.4361e-05, 5.3717e-05],\n",
       "          ...,\n",
       "          [6.0070e-05, 5.7926e-05, 4.8164e-05,  ..., 7.0877e-05,\n",
       "           4.2516e-05, 4.8432e-05],\n",
       "          [6.1097e-05, 4.6878e-05, 6.3256e-05,  ..., 5.8201e-05,\n",
       "           5.4367e-05, 6.7667e-05],\n",
       "          [6.2903e-05, 5.0078e-05, 5.9479e-05,  ..., 4.4692e-05,\n",
       "           6.3760e-05, 7.5223e-05]]],\n",
       "\n",
       "\n",
       "        [[[6.9330e-05, 4.3029e-05, 5.7134e-05,  ..., 7.6336e-05,\n",
       "           6.8524e-05, 5.5989e-05],\n",
       "          [6.3747e-05, 4.8168e-05, 5.9015e-05,  ..., 4.3606e-05,\n",
       "           6.4721e-05, 5.6443e-05],\n",
       "          [6.1783e-05, 5.3492e-05, 5.3821e-05,  ..., 4.6722e-05,\n",
       "           6.5583e-05, 4.7895e-05],\n",
       "          ...,\n",
       "          [4.3390e-05, 5.2691e-05, 4.8268e-05,  ..., 5.3091e-05,\n",
       "           4.9672e-05, 7.0604e-05],\n",
       "          [7.5653e-05, 6.9714e-05, 6.5868e-05,  ..., 4.5220e-05,\n",
       "           4.9820e-05, 5.0855e-05],\n",
       "          [6.2191e-05, 6.7712e-05, 6.8983e-05,  ..., 6.4541e-05,\n",
       "           5.5993e-05, 6.1092e-05]],\n",
       "\n",
       "         [[6.4737e-05, 6.3430e-05, 6.7115e-05,  ..., 7.3887e-05,\n",
       "           5.3966e-05, 5.5398e-05],\n",
       "          [6.4609e-05, 6.1167e-05, 7.1701e-05,  ..., 6.0858e-05,\n",
       "           6.6057e-05, 7.9013e-05],\n",
       "          [4.7321e-05, 6.2773e-05, 5.5664e-05,  ..., 6.6553e-05,\n",
       "           5.8738e-05, 5.5157e-05],\n",
       "          ...,\n",
       "          [5.2695e-05, 6.4744e-05, 5.4653e-05,  ..., 5.3775e-05,\n",
       "           3.9566e-05, 4.9700e-05],\n",
       "          [7.0842e-05, 5.8993e-05, 5.0503e-05,  ..., 6.5170e-05,\n",
       "           6.2350e-05, 5.3308e-05],\n",
       "          [7.7708e-05, 5.5881e-05, 6.1303e-05,  ..., 5.6601e-05,\n",
       "           5.2679e-05, 6.4197e-05]],\n",
       "\n",
       "         [[7.9039e-05, 4.1221e-05, 6.7624e-05,  ..., 5.8587e-05,\n",
       "           7.1562e-05, 7.7472e-05],\n",
       "          [6.6854e-05, 5.4241e-05, 6.0491e-05,  ..., 4.6288e-05,\n",
       "           4.9874e-05, 5.9660e-05],\n",
       "          [4.8669e-05, 5.9692e-05, 7.3126e-05,  ..., 5.5457e-05,\n",
       "           7.5695e-05, 6.2067e-05],\n",
       "          ...,\n",
       "          [6.5326e-05, 6.2426e-05, 5.7651e-05,  ..., 6.0755e-05,\n",
       "           8.0221e-05, 5.8171e-05],\n",
       "          [7.0755e-05, 3.8938e-05, 6.2171e-05,  ..., 9.1372e-05,\n",
       "           5.3384e-05, 4.2298e-05],\n",
       "          [5.6763e-05, 5.4495e-05, 5.5267e-05,  ..., 5.3963e-05,\n",
       "           5.4625e-05, 6.0189e-05]],\n",
       "\n",
       "         [[5.6329e-05, 6.8787e-05, 9.4149e-05,  ..., 6.2971e-05,\n",
       "           7.9300e-05, 7.6930e-05],\n",
       "          [5.6222e-05, 6.4333e-05, 5.3104e-05,  ..., 5.6239e-05,\n",
       "           7.2766e-05, 5.3507e-05],\n",
       "          [7.6475e-05, 4.7472e-05, 5.0850e-05,  ..., 6.6594e-05,\n",
       "           7.1593e-05, 6.0086e-05],\n",
       "          ...,\n",
       "          [5.3003e-05, 6.2193e-05, 7.2074e-05,  ..., 7.3132e-05,\n",
       "           7.1304e-05, 5.8091e-05],\n",
       "          [8.3624e-05, 8.5330e-05, 6.2258e-05,  ..., 6.0336e-05,\n",
       "           5.5687e-05, 5.8292e-05],\n",
       "          [5.4221e-05, 5.2899e-05, 4.8952e-05,  ..., 6.6993e-05,\n",
       "           4.6052e-05, 6.9814e-05]]],\n",
       "\n",
       "\n",
       "        [[[4.4607e-05, 5.9324e-05, 9.3887e-05,  ..., 5.7044e-05,\n",
       "           6.2969e-05, 6.1083e-05],\n",
       "          [5.6728e-05, 7.6411e-05, 4.7634e-05,  ..., 5.8700e-05,\n",
       "           6.9406e-05, 5.3969e-05],\n",
       "          [7.2678e-05, 8.4792e-05, 5.2408e-05,  ..., 4.9134e-05,\n",
       "           6.0726e-05, 5.9494e-05],\n",
       "          ...,\n",
       "          [5.7214e-05, 6.4210e-05, 6.4940e-05,  ..., 8.0025e-05,\n",
       "           8.3828e-05, 8.1825e-05],\n",
       "          [4.8694e-05, 5.0514e-05, 4.9317e-05,  ..., 5.1859e-05,\n",
       "           5.2199e-05, 4.5870e-05],\n",
       "          [4.7022e-05, 5.9873e-05, 6.6986e-05,  ..., 7.5416e-05,\n",
       "           5.8117e-05, 8.2900e-05]],\n",
       "\n",
       "         [[5.9096e-05, 6.6205e-05, 6.3229e-05,  ..., 7.2860e-05,\n",
       "           6.8845e-05, 5.7349e-05],\n",
       "          [8.3586e-05, 6.4090e-05, 6.0632e-05,  ..., 5.1522e-05,\n",
       "           7.8845e-05, 5.1614e-05],\n",
       "          [6.2561e-05, 5.4651e-05, 6.5802e-05,  ..., 5.1372e-05,\n",
       "           4.3693e-05, 5.1477e-05],\n",
       "          ...,\n",
       "          [6.5043e-05, 6.5928e-05, 5.8495e-05,  ..., 4.7603e-05,\n",
       "           6.8524e-05, 6.0401e-05],\n",
       "          [6.3224e-05, 6.4810e-05, 6.9152e-05,  ..., 6.3446e-05,\n",
       "           5.8591e-05, 6.1410e-05],\n",
       "          [6.8331e-05, 7.2363e-05, 4.2110e-05,  ..., 6.4627e-05,\n",
       "           7.0389e-05, 4.7360e-05]],\n",
       "\n",
       "         [[5.0592e-05, 6.6496e-05, 6.0368e-05,  ..., 5.3944e-05,\n",
       "           6.6825e-05, 5.4490e-05],\n",
       "          [5.7534e-05, 5.4369e-05, 6.5047e-05,  ..., 6.8540e-05,\n",
       "           6.9232e-05, 6.0968e-05],\n",
       "          [6.8201e-05, 5.7366e-05, 5.7344e-05,  ..., 4.7192e-05,\n",
       "           5.6490e-05, 6.2607e-05],\n",
       "          ...,\n",
       "          [5.2623e-05, 5.0331e-05, 7.6134e-05,  ..., 6.2368e-05,\n",
       "           5.4179e-05, 6.5770e-05],\n",
       "          [7.8488e-05, 8.0995e-05, 5.4409e-05,  ..., 4.5012e-05,\n",
       "           4.9243e-05, 5.2229e-05],\n",
       "          [5.7365e-05, 6.0310e-05, 6.0424e-05,  ..., 6.7077e-05,\n",
       "           5.9725e-05, 4.6630e-05]],\n",
       "\n",
       "         [[4.1720e-05, 4.8941e-05, 5.7189e-05,  ..., 4.8053e-05,\n",
       "           5.3615e-05, 5.9750e-05],\n",
       "          [6.6186e-05, 6.7894e-05, 5.0298e-05,  ..., 4.6547e-05,\n",
       "           5.5007e-05, 6.3960e-05],\n",
       "          [6.3593e-05, 6.4230e-05, 6.7544e-05,  ..., 5.5788e-05,\n",
       "           6.5393e-05, 5.5491e-05],\n",
       "          ...,\n",
       "          [5.3426e-05, 6.1309e-05, 6.6922e-05,  ..., 5.9734e-05,\n",
       "           8.0503e-05, 8.8108e-05],\n",
       "          [6.2927e-05, 4.7648e-05, 5.0890e-05,  ..., 4.9350e-05,\n",
       "           3.9542e-05, 4.6326e-05],\n",
       "          [5.4967e-05, 5.3799e-05, 8.9294e-05,  ..., 7.4181e-05,\n",
       "           6.5564e-05, 6.6550e-05]]]], grad_fn=<SoftmaxBackward0>)"
      ]
     },
     "execution_count": 20,
     "metadata": {},
     "output_type": "execute_result"
    }
   ],
   "source": [
    "q2.softmax(dim=-2)\n",
    "k2.softmax(dim=-1)"
   ]
  },
  {
   "cell_type": "code",
   "execution_count": 21,
   "metadata": {},
   "outputs": [],
   "source": [
    "q = q * dim_head ** 0.5\n",
    "v = v / (height * width)"
   ]
  },
  {
   "cell_type": "code",
   "execution_count": 22,
   "metadata": {},
   "outputs": [],
   "source": [
    "context1 = k.matmul(v.transpose(-1, -2))"
   ]
  },
  {
   "cell_type": "code",
   "execution_count": 23,
   "metadata": {},
   "outputs": [],
   "source": [
    "context2 = torch.einsum('b h d n, b h e n -> b h d e', k, v)"
   ]
  },
  {
   "cell_type": "code",
   "execution_count": 24,
   "metadata": {},
   "outputs": [
    {
     "data": {
      "text/plain": [
       "tensor([[[[True, True, True,  ..., True, True, True],\n",
       "          [True, True, True,  ..., True, True, True],\n",
       "          [True, True, True,  ..., True, True, True],\n",
       "          ...,\n",
       "          [True, True, True,  ..., True, True, True],\n",
       "          [True, True, True,  ..., True, True, True],\n",
       "          [True, True, True,  ..., True, True, True]],\n",
       "\n",
       "         [[True, True, True,  ..., True, True, True],\n",
       "          [True, True, True,  ..., True, True, True],\n",
       "          [True, True, True,  ..., True, True, True],\n",
       "          ...,\n",
       "          [True, True, True,  ..., True, True, True],\n",
       "          [True, True, True,  ..., True, True, True],\n",
       "          [True, True, True,  ..., True, True, True]],\n",
       "\n",
       "         [[True, True, True,  ..., True, True, True],\n",
       "          [True, True, True,  ..., True, True, True],\n",
       "          [True, True, True,  ..., True, True, True],\n",
       "          ...,\n",
       "          [True, True, True,  ..., True, True, True],\n",
       "          [True, True, True,  ..., True, True, True],\n",
       "          [True, True, True,  ..., True, True, True]],\n",
       "\n",
       "         [[True, True, True,  ..., True, True, True],\n",
       "          [True, True, True,  ..., True, True, True],\n",
       "          [True, True, True,  ..., True, True, True],\n",
       "          ...,\n",
       "          [True, True, True,  ..., True, True, True],\n",
       "          [True, True, True,  ..., True, True, True],\n",
       "          [True, True, True,  ..., True, True, True]]],\n",
       "\n",
       "\n",
       "        [[[True, True, True,  ..., True, True, True],\n",
       "          [True, True, True,  ..., True, True, True],\n",
       "          [True, True, True,  ..., True, True, True],\n",
       "          ...,\n",
       "          [True, True, True,  ..., True, True, True],\n",
       "          [True, True, True,  ..., True, True, True],\n",
       "          [True, True, True,  ..., True, True, True]],\n",
       "\n",
       "         [[True, True, True,  ..., True, True, True],\n",
       "          [True, True, True,  ..., True, True, True],\n",
       "          [True, True, True,  ..., True, True, True],\n",
       "          ...,\n",
       "          [True, True, True,  ..., True, True, True],\n",
       "          [True, True, True,  ..., True, True, True],\n",
       "          [True, True, True,  ..., True, True, True]],\n",
       "\n",
       "         [[True, True, True,  ..., True, True, True],\n",
       "          [True, True, True,  ..., True, True, True],\n",
       "          [True, True, True,  ..., True, True, True],\n",
       "          ...,\n",
       "          [True, True, True,  ..., True, True, True],\n",
       "          [True, True, True,  ..., True, True, True],\n",
       "          [True, True, True,  ..., True, True, True]],\n",
       "\n",
       "         [[True, True, True,  ..., True, True, True],\n",
       "          [True, True, True,  ..., True, True, True],\n",
       "          [True, True, True,  ..., True, True, True],\n",
       "          ...,\n",
       "          [True, True, True,  ..., True, True, True],\n",
       "          [True, True, True,  ..., True, True, True],\n",
       "          [True, True, True,  ..., True, True, True]]],\n",
       "\n",
       "\n",
       "        [[[True, True, True,  ..., True, True, True],\n",
       "          [True, True, True,  ..., True, True, True],\n",
       "          [True, True, True,  ..., True, True, True],\n",
       "          ...,\n",
       "          [True, True, True,  ..., True, True, True],\n",
       "          [True, True, True,  ..., True, True, True],\n",
       "          [True, True, True,  ..., True, True, True]],\n",
       "\n",
       "         [[True, True, True,  ..., True, True, True],\n",
       "          [True, True, True,  ..., True, True, True],\n",
       "          [True, True, True,  ..., True, True, True],\n",
       "          ...,\n",
       "          [True, True, True,  ..., True, True, True],\n",
       "          [True, True, True,  ..., True, True, True],\n",
       "          [True, True, True,  ..., True, True, True]],\n",
       "\n",
       "         [[True, True, True,  ..., True, True, True],\n",
       "          [True, True, True,  ..., True, True, True],\n",
       "          [True, True, True,  ..., True, True, True],\n",
       "          ...,\n",
       "          [True, True, True,  ..., True, True, True],\n",
       "          [True, True, True,  ..., True, True, True],\n",
       "          [True, True, True,  ..., True, True, True]],\n",
       "\n",
       "         [[True, True, True,  ..., True, True, True],\n",
       "          [True, True, True,  ..., True, True, True],\n",
       "          [True, True, True,  ..., True, True, True],\n",
       "          ...,\n",
       "          [True, True, True,  ..., True, True, True],\n",
       "          [True, True, True,  ..., True, True, True],\n",
       "          [True, True, True,  ..., True, True, True]]],\n",
       "\n",
       "\n",
       "        [[[True, True, True,  ..., True, True, True],\n",
       "          [True, True, True,  ..., True, True, True],\n",
       "          [True, True, True,  ..., True, True, True],\n",
       "          ...,\n",
       "          [True, True, True,  ..., True, True, True],\n",
       "          [True, True, True,  ..., True, True, True],\n",
       "          [True, True, True,  ..., True, True, True]],\n",
       "\n",
       "         [[True, True, True,  ..., True, True, True],\n",
       "          [True, True, True,  ..., True, True, True],\n",
       "          [True, True, True,  ..., True, True, True],\n",
       "          ...,\n",
       "          [True, True, True,  ..., True, True, True],\n",
       "          [True, True, True,  ..., True, True, True],\n",
       "          [True, True, True,  ..., True, True, True]],\n",
       "\n",
       "         [[True, True, True,  ..., True, True, True],\n",
       "          [True, True, True,  ..., True, True, True],\n",
       "          [True, True, True,  ..., True, True, True],\n",
       "          ...,\n",
       "          [True, True, True,  ..., True, True, True],\n",
       "          [True, True, True,  ..., True, True, True],\n",
       "          [True, True, True,  ..., True, True, True]],\n",
       "\n",
       "         [[True, True, True,  ..., True, True, True],\n",
       "          [True, True, True,  ..., True, True, True],\n",
       "          [True, True, True,  ..., True, True, True],\n",
       "          ...,\n",
       "          [True, True, True,  ..., True, True, True],\n",
       "          [True, True, True,  ..., True, True, True],\n",
       "          [True, True, True,  ..., True, True, True]]]])"
      ]
     },
     "execution_count": 24,
     "metadata": {},
     "output_type": "execute_result"
    }
   ],
   "source": [
    "torch.eq(context1, context2)"
   ]
  },
  {
   "cell_type": "code",
   "execution_count": 25,
   "metadata": {},
   "outputs": [],
   "source": [
    "out1 = torch.einsum('b h d e, b h d n -> b h e n', context1, q)"
   ]
  },
  {
   "cell_type": "code",
   "execution_count": 27,
   "metadata": {},
   "outputs": [],
   "source": [
    "out2 = context2.transpose(-1, -2).matmul(q)"
   ]
  },
  {
   "cell_type": "code",
   "execution_count": 28,
   "metadata": {},
   "outputs": [
    {
     "data": {
      "text/plain": [
       "tensor([[[[True, True, True,  ..., True, True, True],\n",
       "          [True, True, True,  ..., True, True, True],\n",
       "          [True, True, True,  ..., True, True, True],\n",
       "          ...,\n",
       "          [True, True, True,  ..., True, True, True],\n",
       "          [True, True, True,  ..., True, True, True],\n",
       "          [True, True, True,  ..., True, True, True]],\n",
       "\n",
       "         [[True, True, True,  ..., True, True, True],\n",
       "          [True, True, True,  ..., True, True, True],\n",
       "          [True, True, True,  ..., True, True, True],\n",
       "          ...,\n",
       "          [True, True, True,  ..., True, True, True],\n",
       "          [True, True, True,  ..., True, True, True],\n",
       "          [True, True, True,  ..., True, True, True]],\n",
       "\n",
       "         [[True, True, True,  ..., True, True, True],\n",
       "          [True, True, True,  ..., True, True, True],\n",
       "          [True, True, True,  ..., True, True, True],\n",
       "          ...,\n",
       "          [True, True, True,  ..., True, True, True],\n",
       "          [True, True, True,  ..., True, True, True],\n",
       "          [True, True, True,  ..., True, True, True]],\n",
       "\n",
       "         [[True, True, True,  ..., True, True, True],\n",
       "          [True, True, True,  ..., True, True, True],\n",
       "          [True, True, True,  ..., True, True, True],\n",
       "          ...,\n",
       "          [True, True, True,  ..., True, True, True],\n",
       "          [True, True, True,  ..., True, True, True],\n",
       "          [True, True, True,  ..., True, True, True]]],\n",
       "\n",
       "\n",
       "        [[[True, True, True,  ..., True, True, True],\n",
       "          [True, True, True,  ..., True, True, True],\n",
       "          [True, True, True,  ..., True, True, True],\n",
       "          ...,\n",
       "          [True, True, True,  ..., True, True, True],\n",
       "          [True, True, True,  ..., True, True, True],\n",
       "          [True, True, True,  ..., True, True, True]],\n",
       "\n",
       "         [[True, True, True,  ..., True, True, True],\n",
       "          [True, True, True,  ..., True, True, True],\n",
       "          [True, True, True,  ..., True, True, True],\n",
       "          ...,\n",
       "          [True, True, True,  ..., True, True, True],\n",
       "          [True, True, True,  ..., True, True, True],\n",
       "          [True, True, True,  ..., True, True, True]],\n",
       "\n",
       "         [[True, True, True,  ..., True, True, True],\n",
       "          [True, True, True,  ..., True, True, True],\n",
       "          [True, True, True,  ..., True, True, True],\n",
       "          ...,\n",
       "          [True, True, True,  ..., True, True, True],\n",
       "          [True, True, True,  ..., True, True, True],\n",
       "          [True, True, True,  ..., True, True, True]],\n",
       "\n",
       "         [[True, True, True,  ..., True, True, True],\n",
       "          [True, True, True,  ..., True, True, True],\n",
       "          [True, True, True,  ..., True, True, True],\n",
       "          ...,\n",
       "          [True, True, True,  ..., True, True, True],\n",
       "          [True, True, True,  ..., True, True, True],\n",
       "          [True, True, True,  ..., True, True, True]]],\n",
       "\n",
       "\n",
       "        [[[True, True, True,  ..., True, True, True],\n",
       "          [True, True, True,  ..., True, True, True],\n",
       "          [True, True, True,  ..., True, True, True],\n",
       "          ...,\n",
       "          [True, True, True,  ..., True, True, True],\n",
       "          [True, True, True,  ..., True, True, True],\n",
       "          [True, True, True,  ..., True, True, True]],\n",
       "\n",
       "         [[True, True, True,  ..., True, True, True],\n",
       "          [True, True, True,  ..., True, True, True],\n",
       "          [True, True, True,  ..., True, True, True],\n",
       "          ...,\n",
       "          [True, True, True,  ..., True, True, True],\n",
       "          [True, True, True,  ..., True, True, True],\n",
       "          [True, True, True,  ..., True, True, True]],\n",
       "\n",
       "         [[True, True, True,  ..., True, True, True],\n",
       "          [True, True, True,  ..., True, True, True],\n",
       "          [True, True, True,  ..., True, True, True],\n",
       "          ...,\n",
       "          [True, True, True,  ..., True, True, True],\n",
       "          [True, True, True,  ..., True, True, True],\n",
       "          [True, True, True,  ..., True, True, True]],\n",
       "\n",
       "         [[True, True, True,  ..., True, True, True],\n",
       "          [True, True, True,  ..., True, True, True],\n",
       "          [True, True, True,  ..., True, True, True],\n",
       "          ...,\n",
       "          [True, True, True,  ..., True, True, True],\n",
       "          [True, True, True,  ..., True, True, True],\n",
       "          [True, True, True,  ..., True, True, True]]],\n",
       "\n",
       "\n",
       "        [[[True, True, True,  ..., True, True, True],\n",
       "          [True, True, True,  ..., True, True, True],\n",
       "          [True, True, True,  ..., True, True, True],\n",
       "          ...,\n",
       "          [True, True, True,  ..., True, True, True],\n",
       "          [True, True, True,  ..., True, True, True],\n",
       "          [True, True, True,  ..., True, True, True]],\n",
       "\n",
       "         [[True, True, True,  ..., True, True, True],\n",
       "          [True, True, True,  ..., True, True, True],\n",
       "          [True, True, True,  ..., True, True, True],\n",
       "          ...,\n",
       "          [True, True, True,  ..., True, True, True],\n",
       "          [True, True, True,  ..., True, True, True],\n",
       "          [True, True, True,  ..., True, True, True]],\n",
       "\n",
       "         [[True, True, True,  ..., True, True, True],\n",
       "          [True, True, True,  ..., True, True, True],\n",
       "          [True, True, True,  ..., True, True, True],\n",
       "          ...,\n",
       "          [True, True, True,  ..., True, True, True],\n",
       "          [True, True, True,  ..., True, True, True],\n",
       "          [True, True, True,  ..., True, True, True]],\n",
       "\n",
       "         [[True, True, True,  ..., True, True, True],\n",
       "          [True, True, True,  ..., True, True, True],\n",
       "          [True, True, True,  ..., True, True, True],\n",
       "          ...,\n",
       "          [True, True, True,  ..., True, True, True],\n",
       "          [True, True, True,  ..., True, True, True],\n",
       "          [True, True, True,  ..., True, True, True]]]])"
      ]
     },
     "execution_count": 28,
     "metadata": {},
     "output_type": "execute_result"
    }
   ],
   "source": [
    "torch.eq(out1, out2)"
   ]
  }
 ],
 "metadata": {
  "kernelspec": {
   "display_name": "pytorch_learning",
   "language": "python",
   "name": "python3"
  },
  "language_info": {
   "codemirror_mode": {
    "name": "ipython",
    "version": 3
   },
   "file_extension": ".py",
   "mimetype": "text/x-python",
   "name": "python",
   "nbconvert_exporter": "python",
   "pygments_lexer": "ipython3",
   "version": "3.10.10"
  },
  "orig_nbformat": 4
 },
 "nbformat": 4,
 "nbformat_minor": 2
}

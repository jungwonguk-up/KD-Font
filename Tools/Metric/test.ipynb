{
 "cells": [
  {
   "cell_type": "code",
   "execution_count": 4,
   "metadata": {},
   "outputs": [
    {
     "name": "stdout",
     "output_type": "stream",
     "text": [
      "디\n",
      "늘\n",
      "없\n",
      "나\n",
      "기\n",
      "도\n",
      "을\n",
      "버\n",
      "러\n",
      "만\n",
      "는\n",
      "깅\n",
      "를\n",
      "하\n",
      "워\n",
      "했\n",
      "에\n",
      "그\n",
      "로\n",
      "괴\n",
      "우\n",
      "자\n",
      "한\n",
      "점\n",
      "다\n"
     ]
    }
   ],
   "source": [
    "from function import psnr,lpips,SSIM\n",
    "import os\n",
    "\n",
    "original_dir = '/root/paper_project/sample_data'\n",
    "generate_dir = '/root/paper_project/sample_data'\n",
    "\n",
    "\n",
    "for root, dirs, files in os.walk(image_dir):\n",
    "    for dir in dirs:\n",
    "        generate_dir_tmp = f'{generate_dir}/{dir}'\n",
    "        dir_path = os.path.join(root, dir)  \n",
    "        for filename in os.listdir(dir_path):\n",
    "            if filename.endswith(('.jpg', '.jpeg', '.png', '.bmp')):\n",
    "                    pass"
   ]
  }
 ],
 "metadata": {
  "kernelspec": {
   "display_name": "Python 3",
   "language": "python",
   "name": "python3"
  },
  "language_info": {
   "codemirror_mode": {
    "name": "ipython",
    "version": 3
   },
   "file_extension": ".py",
   "mimetype": "text/x-python",
   "name": "python",
   "nbconvert_exporter": "python",
   "pygments_lexer": "ipython3",
   "version": "3.8.10"
  }
 },
 "nbformat": 4,
 "nbformat_minor": 2
}

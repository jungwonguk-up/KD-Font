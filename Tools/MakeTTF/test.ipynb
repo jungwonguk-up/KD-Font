{
 "cells": [
  {
   "cell_type": "code",
   "execution_count": null,
   "metadata": {},
   "outputs": [],
   "source": [
    "from PIL import Image\n",
    "\n",
    "image = Image.open(\"\")"
   ]
  },
  {
   "cell_type": "code",
   "execution_count": 27,
   "metadata": {},
   "outputs": [],
   "source": [
    "import fontforge"
   ]
  },
  {
   "cell_type": "code",
   "execution_count": 50,
   "metadata": {},
   "outputs": [
    {
     "data": {
      "text/plain": [
       "<fontforge.font at 0x0x7fe51077a9b0 \"Untitled12\">"
      ]
     },
     "execution_count": 50,
     "metadata": {},
     "output_type": "execute_result"
    }
   ],
   "source": [
    "font = fontforge.font()\n",
    "\n",
    "# 누끼 따고, svg 파일, 크기문제 \n",
    "\n",
    "font.encoding = 'UnicodeFull'\n",
    "charactor = '가'\n",
    "output_path = '/root/paper_project/Tools/MakeTTF/font.ttf'\n",
    "image_path = '/root/paper_project/Tools/MakeTTF/sd_4000-removebg-preview.svg'\n",
    "image_glyph = font.createChar(ord(charactor), charactor)\n",
    "image_glyph.importOutlines(image_path)\n",
    "image2_glyph = font.createChar(ord(charactor), charactor)\n",
    "image2_glyph.importOutlines(image_path)\n",
    "font.generate(output_path)"
   ]
  },
  {
   "cell_type": "code",
   "execution_count": 51,
   "metadata": {},
   "outputs": [
    {
     "name": "stdout",
     "output_type": "stream",
     "text": [
      "64 52\n",
      "0 5 64 52\n"
     ]
    },
    {
     "name": "stderr",
     "output_type": "stream",
     "text": [
      "/tmp/ipykernel_319101/4017460943.py:8: DeprecationWarning: getsize is deprecated and will be removed in Pillow 10 (2023-07-01). Use getbbox or getlength instead.\n",
      "  x,y = font2.getsize(unicodeChars)\n"
     ]
    }
   ],
   "source": [
    "import os\n",
    "from PIL import Image, ImageDraw, ImageFont, ImageOps\n",
    "# Get Font image\n",
    "font2 = ImageFont.truetype(font='/root/paper_project/Tools/MakeTTF/font.ttf', size=64)\n",
    "unicodeChars = '가'\n",
    "image_size = 64\n",
    "# Get font image size and bbox\n",
    "x,y = font2.getsize(unicodeChars)\n",
    "\n",
    "print(x,y)\n",
    "\n",
    "left, top, right, bottom = font2.getbbox(unicodeChars)\n",
    "\n",
    "print(left, top, right, bottom)\n",
    "\n",
    "# Check font image is empty / If font image is empty, do not create image\n",
    "# if x == 0 or y == 0 or (right-left) == 0 or (bottom-top) == 0:\n",
    "#     continue\n",
    "\n",
    "# make base image\n",
    "font_image = Image.new('RGB', (image_size, image_size), color='white')\n",
    "\n",
    "# Draw font image on base image\n",
    "draw_image = ImageDraw.Draw(font_image)\n",
    "draw_image.text(((image_size-x)/2, (image_size-y)/2), unicodeChars[0], font=font2, fill='black')\n",
    "\n",
    "# Set file name\n",
    "# file_name = os.path.join(result_path, ttf[:-4]+\"_\"+unicodeChars)\n",
    "\n",
    "# print(ttf[:-4],ttf_name)\n",
    "file_name = '/root/paper_project/Tools/MakeTTF/test'\n",
    "\n",
    "# Save image\n",
    "font_image.save('{}.png'.format(file_name)) "
   ]
  },
  {
   "cell_type": "code",
   "execution_count": 25,
   "metadata": {},
   "outputs": [],
   "source": [
    "from fontTools.ttLib import TTFont\n",
    "from PIL import Image, ImageFont, ImageDraw\n",
    "\n",
    "\n",
    "\n",
    "def read_font(fontfile, size=150):\n",
    "    font = ImageFont.truetype(str(fontfile), size=size)\n",
    "    return font\n",
    "\n",
    "def get_defined_chars(fontfile):\n",
    "    ttf = TTFont(fontfile)\n",
    "    chars = [chr(y) for y in ttf[\"cmap\"].tables[0].cmap.keys()]\n",
    "    return chars\n",
    "\n",
    "\n",
    "def get_filtered_chars(fontpath):\n",
    "    ttf = read_font(fontpath)\n",
    "    defined_chars = get_defined_chars(fontpath)\n",
    "    return defined_chars"
   ]
  },
  {
   "cell_type": "code",
   "execution_count": 26,
   "metadata": {},
   "outputs": [
    {
     "data": {
      "text/plain": [
       "['가']"
      ]
     },
     "execution_count": 26,
     "metadata": {},
     "output_type": "execute_result"
    }
   ],
   "source": [
    "get_filtered_chars('/root/paper_project/Tools/MakeTTF/font.ttf')"
   ]
  }
 ],
 "metadata": {
  "kernelspec": {
   "display_name": "Python 3",
   "language": "python",
   "name": "python3"
  },
  "language_info": {
   "codemirror_mode": {
    "name": "ipython",
    "version": 3
   },
   "file_extension": ".py",
   "mimetype": "text/x-python",
   "name": "python",
   "nbconvert_exporter": "python",
   "pygments_lexer": "ipython3",
   "version": "3.10.12"
  }
 },
 "nbformat": 4,
 "nbformat_minor": 2
}
